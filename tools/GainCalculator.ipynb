{
 "cells": [
  {
   "cell_type": "markdown",
   "metadata": {},
   "source": [
    "![Image of Invering Amplifyer](Op-Amp_Inverting_Amplifier.svg.png)\n",
    "\n",
    "![Formula of Amp gain](invering_amp_gain.svg)"
   ]
  },
  {
   "cell_type": "code",
   "execution_count": 11,
   "metadata": {},
   "outputs": [
    {
     "name": "stdout",
     "output_type": "stream",
     "text": [
      "R_in = 1010.101\n",
      "R_f  = 101.010\n",
      "\n",
      "A_max = 10.000\n",
      "A_min = 0.100\n"
     ]
    }
   ],
   "source": [
    "def calc_gain(R_f, R_in):\n",
    "    return R_f/R_in\n",
    "\n",
    "gain = (1/10, 10)\n",
    "\n",
    "R_pot = 10000\n",
    "\n",
    "R_in = -R_pot/(gain[0]-gain[1])\n",
    "R_f = gain[0]*R_in\n",
    "\n",
    "print(\"R_in = {:.03f}\".format(R_in))\n",
    "print(\"R_f  = {:.03f}\".format(R_f))\n",
    "print()\n",
    "print(\"A_max = {:.03f}\".format(calc_gain(R_in, R_f)))\n",
    "print(\"A_min = {:.03f}\".format(calc_gain(R_in, R_f+R_pot)))"
   ]
  },
  {
   "cell_type": "code",
   "execution_count": null,
   "metadata": {},
   "outputs": [],
   "source": []
  }
 ],
 "metadata": {
  "kernelspec": {
   "display_name": "Python 3",
   "language": "python",
   "name": "python3"
  },
  "language_info": {
   "codemirror_mode": {
    "name": "ipython",
    "version": 3
   },
   "file_extension": ".py",
   "mimetype": "text/x-python",
   "name": "python",
   "nbconvert_exporter": "python",
   "pygments_lexer": "ipython3",
   "version": "3.11.5"
  }
 },
 "nbformat": 4,
 "nbformat_minor": 2
}
