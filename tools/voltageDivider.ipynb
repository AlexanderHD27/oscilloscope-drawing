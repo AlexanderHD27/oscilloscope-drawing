{
 "cells": [
  {
   "cell_type": "code",
   "execution_count": 2,
   "id": "a1d1f8d4-c0b4-4eeb-a18d-62060c11b51b",
   "metadata": {
    "tags": []
   },
   "outputs": [],
   "source": [
    "import numpy as np\n",
    "import math\n",
    "\n",
    "def prefix(v_):\n",
    "    \n",
    "    big = [\"k\", \"M\", \"G\", \"T\", \"P\", \"E\", \"Z\", \"Y\", \"R\", \"Q\"]\n",
    "    small = [\"m\", \"µ\", \"n\", \"p\", \"f\", \"a\", \"z\", \"y\", \"r\", \"q\"]\n",
    "    \n",
    "    v = abs(v_)\n",
    "    if v == 0:\n",
    "        p = \"\"\n",
    "        d = 1\n",
    "    else:\n",
    "        index = math.floor(math.log(v, 1000))\n",
    "        if index == 0:\n",
    "            p = \"\"\n",
    "            d = 1\n",
    "        elif index > 0:\n",
    "            p = big[min(index-1, len(big)-1)]\n",
    "            d = 1/10**(3*min(index, len(big)))\n",
    "        else:\n",
    "            index *= -1\n",
    "            p = small[min(index-1, len(small)-1)]\n",
    "            d = 10**(3*min(index, len(small)))\n",
    "    \n",
    "    return \"{:3.3f} {}\".format(v*d, p)"
   ]
  },
  {
   "cell_type": "code",
   "execution_count": 3,
   "id": "2bb6ee76-55fd-47d8-9bdd-54acce489179",
   "metadata": {
    "tags": []
   },
   "outputs": [],
   "source": [
    "def solve(R1: float | None, R2: float | None, U_in: float | None, U_out: float | None):\n",
    "    unknowns = sum([1 if x is None else 0 for x in [R1, R2, U_out, U_in]])\n",
    "    \n",
    "    if unknowns > 2:\n",
    "        raise ValueError(\"Cannot solve problem, given 3 or more unknowns\")\n",
    "    elif unknowns == 1:\n",
    "        if U_out is None:\n",
    "            U_out = U_in*R2/(R2+R1)\n",
    "        elif U_in is None:\n",
    "            U_in = U_out*(R2+R1)/R2\n",
    "        elif R1 is None:\n",
    "            R1 = (U_in/U_out - 1)*R2\n",
    "        elif R2 is None:\n",
    "            R2 = R1 / (U_in/U_out - 1)\n",
    "            \n",
    "        print(f\"R1 = {prefix(R1)}Ω\")\n",
    "        print(f\"R2 = {prefix(R2)}Ω\")\n",
    "        print(f\"U_in  = {prefix(U_in)}V\")\n",
    "        print(f\"U_out = {prefix(U_out)}V\")\n",
    "        \n",
    "    elif unknowns == 2:\n",
    "        if U_out is None and U_in is None:\n",
    "            print(f\"R1 = {prefix(R1)}Ω\")\n",
    "            print(f\"R2 = {prefix(R1)}Ω\")\n",
    "            print(f\"U_in * {prefix(R2/(R2+R1))} = U_out\")\n",
    "            print(f\"U_out * {prefix((R2+R1)/R2)} = U_in\")\n",
    "        elif R1 is None and R2 is None:\n",
    "            print(f\"U_in  = {prefix(U_in)}V\")\n",
    "            print(f\"U_out = {prefix(U_out)}V\")\n",
    "            print(f\"R1 * {prefix(U_out/(U_out-U_in))} = R2\")\n",
    "            print(f\"R2 * {prefix((U_out-U_in)/U_out)} = R1\")\n",
    "            \n",
    "            \n",
    "    elif unknowns == 0:\n",
    "        print(f\"R1 = {prefix(R1)}Ω\")\n",
    "        print(f\"R2 = {prefix(R2)}Ω\")\n",
    "        print(f\"U_in  = {prefix(U_in)}V\")\n",
    "        print(f\"U_out = {prefix(U_out)}V\")\n",
    "    \n",
    "    return R1, R2, U_in, U_out"
   ]
  },
  {
   "cell_type": "markdown",
   "id": "f9179292-d109-432b-b4ec-fb5c09b55d7b",
   "metadata": {
    "tags": []
   },
   "source": [
    "# Voltage Divider\n",
    "![alttext](voltageDivider.png)"
   ]
  },
  {
   "cell_type": "code",
   "execution_count": 4,
   "id": "0d060876-e271-4fc3-8ca4-3bdde37ba70f",
   "metadata": {
    "tags": []
   },
   "outputs": [
    {
     "name": "stdout",
     "output_type": "stream",
     "text": [
      "R1 = 10.000 kΩ\n",
      "R2 = 500.000 Ω\n",
      "U_in  = 5.000 V\n",
      "U_out = 238.095 mV\n"
     ]
    },
    {
     "data": {
      "text/plain": [
       "(10000.0, 500, 5, 0.23809523809523808)"
      ]
     },
     "execution_count": 4,
     "metadata": {},
     "output_type": "execute_result"
    }
   ],
   "source": [
    "R1 = 10e3\n",
    "R2 = 500\n",
    "\n",
    "U_in = 5\n",
    "U_out = None\n",
    "\n",
    "solve(R1, R2, U_in, U_out)"
   ]
  },
  {
   "cell_type": "code",
   "execution_count": 8,
   "id": "c756b844-f66d-46bb-ab27-3f1f6658135b",
   "metadata": {},
   "outputs": [
    {
     "name": "stdout",
     "output_type": "stream",
     "text": [
      "R1 = 921.429 Ω\n",
      "R2 = 150.000 Ω\n",
      "U_in  = 5.000 V\n",
      "U_out = 700.000 mV\n"
     ]
    },
    {
     "data": {
      "text/plain": [
       "(921.4285714285714, 150, 5, 0.7)"
      ]
     },
     "execution_count": 8,
     "metadata": {},
     "output_type": "execute_result"
    }
   ],
   "source": [
    "solve(None, 150, 5, 0.7)"
   ]
  },
  {
   "cell_type": "code",
   "execution_count": 9,
   "id": "469ae9ab-0aff-410d-8ae3-76615605a09a",
   "metadata": {},
   "outputs": [
    {
     "name": "stdout",
     "output_type": "stream",
     "text": [
      "R1 = 1.000 kΩ\n",
      "R2 = 150.000 Ω\n",
      "U_in  = 5.000 V\n",
      "U_out = 700.000 mV\n"
     ]
    },
    {
     "data": {
      "text/plain": [
       "(1000, 150, 5, 0.7)"
      ]
     },
     "execution_count": 9,
     "metadata": {},
     "output_type": "execute_result"
    }
   ],
   "source": [
    "solve(1000, 150, 5, None)"
   ]
  },
  {
   "cell_type": "code",
   "execution_count": null,
   "id": "700a2a0f-2ab4-4bb8-a421-4b29b2bf695b",
   "metadata": {},
   "outputs": [],
   "source": []
  }
 ],
 "metadata": {
  "kernelspec": {
   "display_name": "Python 3 (ipykernel)",
   "language": "python",
   "name": "python3"
  },
  "language_info": {
   "codemirror_mode": {
    "name": "ipython",
    "version": 3
   },
   "file_extension": ".py",
   "mimetype": "text/x-python",
   "name": "python",
   "nbconvert_exporter": "python",
   "pygments_lexer": "ipython3",
   "version": "3.11.3"
  }
 },
 "nbformat": 4,
 "nbformat_minor": 5
}
